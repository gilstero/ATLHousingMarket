{
 "cells": [
  {
   "cell_type": "code",
   "execution_count": 3,
   "metadata": {},
   "outputs": [],
   "source": [
    "import pandas as pd\n",
    "import numpy as np\n",
    "import matplotlib.pyplot as plt\n",
    "import os"
   ]
  },
  {
   "cell_type": "code",
   "execution_count": 4,
   "metadata": {},
   "outputs": [
    {
     "name": "stdout",
     "output_type": "stream",
     "text": [
      "/Users/olingilster/Desktop/Projects/ATLHousingMarket\n"
     ]
    }
   ],
   "source": [
    "print(os.getcwd())"
   ]
  },
  {
   "cell_type": "code",
   "execution_count": 8,
   "metadata": {},
   "outputs": [
    {
     "name": "stdout",
     "output_type": "stream",
     "text": [
      "(623, 306)\n"
     ]
    }
   ],
   "source": [
    "housingData = pd.read_csv(\"/Users/olingilster/Desktop/Projects/ATLHousingMarket/Neighborhood_zhvi_uc_sfrcondo_tier_0.33_0.67_sm_sa_month.csv\")\n",
    "housingData = housingData[housingData['StateName'] == 'GA'] #assign to Georgia\n",
    "print(housingData.shape)\n"
   ]
  },
  {
   "cell_type": "code",
   "execution_count": 14,
   "metadata": {},
   "outputs": [
    {
     "data": {
      "text/plain": [
       "<bound method DataFrame.value_counts of      level_0  index  RegionID  SizeRank       RegionName    RegionType  \\\n",
       "0          0    532    269381       555          Midtown  neighborhood   \n",
       "1          1    879      6221       920    North Decatur  neighborhood   \n",
       "2          2   1044    269306      1092         Downtown  neighborhood   \n",
       "3          3   1093    269397      1142  Old Fourth Ward  neighborhood   \n",
       "4          4   1465    269391      1526   North Buckhead  neighborhood   \n",
       "..       ...    ...       ...       ...              ...           ...   \n",
       "280      280  20376    269297     24412  Channing Valley  neighborhood   \n",
       "281      281  20969    814215     25474       Sweetwater  neighborhood   \n",
       "282      282  20998    127346     25513       Briar Glen  neighborhood   \n",
       "283      283  21074    130125     25665          Mayfair  neighborhood   \n",
       "284      284  21554    814206     26403         Deerwood  neighborhood   \n",
       "\n",
       "    StateName State      City                                 Metro  ...  \\\n",
       "0          GA    GA   Atlanta  Atlanta-Sandy Springs-Alpharetta, GA  ...   \n",
       "1          GA    GA   Decatur  Atlanta-Sandy Springs-Alpharetta, GA  ...   \n",
       "2          GA    GA   Atlanta  Atlanta-Sandy Springs-Alpharetta, GA  ...   \n",
       "3          GA    GA   Atlanta  Atlanta-Sandy Springs-Alpharetta, GA  ...   \n",
       "4          GA    GA   Atlanta  Atlanta-Sandy Springs-Alpharetta, GA  ...   \n",
       "..        ...   ...       ...                                   ...  ...   \n",
       "280        GA    GA   Atlanta  Atlanta-Sandy Springs-Alpharetta, GA  ...   \n",
       "281        GA    GA   Cumming  Atlanta-Sandy Springs-Alpharetta, GA  ...   \n",
       "282        GA    GA   Atlanta  Atlanta-Sandy Springs-Alpharetta, GA  ...   \n",
       "283        GA    GA  Savannah                          Savannah, GA  ...   \n",
       "284        GA    GA   Cumming  Atlanta-Sandy Springs-Alpharetta, GA  ...   \n",
       "\n",
       "        2023-12-31     2024-01-31     2024-02-29     2024-03-31  \\\n",
       "0    388386.128308  387564.439328  386270.049040  386152.851741   \n",
       "1    486646.292289  487244.275877  488359.567953  490793.169213   \n",
       "2    276795.981611  275579.549162  274459.941814  274407.311420   \n",
       "3    407201.726140  407735.352382  407864.576562  408905.070111   \n",
       "4    639275.583465  638214.834098  637452.518198  638290.830810   \n",
       "..             ...            ...            ...            ...   \n",
       "280  752618.633985  750797.762514  750235.219105  753181.201841   \n",
       "281  608307.532426  610969.865217  614656.590598  620770.900003   \n",
       "282  252157.809104  252152.621728  251928.025264  251960.484476   \n",
       "283  425895.734255  426541.303972  425901.892859  425966.848638   \n",
       "284  335540.829466  337436.255266  339438.708010  341621.574736   \n",
       "\n",
       "        2024-04-30     2024-05-31     2024-06-30     2024-07-31  \\\n",
       "0    386231.164505  386488.990234  385676.852770  384174.226939   \n",
       "1    493761.069632  496008.579614  496915.286486  497673.447411   \n",
       "2    274631.581370  274624.310236  273714.019227  272183.266895   \n",
       "3    409821.192437  409983.581540  409007.998621  407059.564374   \n",
       "4    639410.371657  639924.521932  638451.833317  635691.622548   \n",
       "..             ...            ...            ...            ...   \n",
       "280  757821.297376  762397.640238  763785.338662  766474.939160   \n",
       "281  626943.005833  631214.260137  632406.648621  631652.330832   \n",
       "282  251796.219135  251195.970045  249690.076451  247879.763789   \n",
       "283  427240.356828  429206.741517  430399.429912  431148.153596   \n",
       "284  343585.368241  345467.156916  346640.359555  348049.349857   \n",
       "\n",
       "        2024-08-31     2024-09-30  \n",
       "0    382261.814812  380173.905105  \n",
       "1    497753.877211  498540.579986  \n",
       "2    270715.389354  269278.142096  \n",
       "3    405097.897700  403126.229986  \n",
       "4    632954.135881  631097.934854  \n",
       "..             ...            ...  \n",
       "280  768449.351818  770744.628630  \n",
       "281  630821.346705  629978.780210  \n",
       "282  246398.919531  245361.837150  \n",
       "283  432041.870640  433348.171708  \n",
       "284  349128.151841  349676.984595  \n",
       "\n",
       "[285 rows x 308 columns]>"
      ]
     },
     "execution_count": 14,
     "metadata": {},
     "output_type": "execute_result"
    }
   ],
   "source": [
    "# 623 entries\n",
    "housingData.dropna(axis = 0, inplace=True)\n",
    "housingData.reset_index(inplace = True)"
   ]
  }
 ],
 "metadata": {
  "kernelspec": {
   "display_name": "base",
   "language": "python",
   "name": "python3"
  },
  "language_info": {
   "codemirror_mode": {
    "name": "ipython",
    "version": 3
   },
   "file_extension": ".py",
   "mimetype": "text/x-python",
   "name": "python",
   "nbconvert_exporter": "python",
   "pygments_lexer": "ipython3",
   "version": "3.9.7"
  }
 },
 "nbformat": 4,
 "nbformat_minor": 2
}
